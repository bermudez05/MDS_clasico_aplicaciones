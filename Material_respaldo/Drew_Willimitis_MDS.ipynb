{
 "cells": [
  {
   "cell_type": "markdown",
   "metadata": {},
   "source": [
    "# Multidimensional Scaling\n",
    "This is the second part in *Manifold Learning: Introduction and Foundational Algorithms*, and the entire project can be viewed at https://github.com/drewwilimitis/Manifold-Learning <br>\n",
    "<br>\n",
    "`Drew Wilimitis`"
   ]
  },
  {
   "cell_type": "markdown",
   "metadata": {},
   "source": [
    "**Multidimensional scaling** (MDS) is an algorithm used for dimensionality reduction, and is most often applied to visualize the similarities in datasets. Although MDS can be considered as a manifold learning algorithm, in general we will see that MDS uses a linear projection, and that the Classical MDS algorithm is equivalent to Principal Component Analysis (PCA). MDS was one of the earliest developed methods for dimensionality reduction, and it has broad applications for high dimensional data in genetics, psychology, sociology, political science, ecology, and many other domains related to modeling structural relationships between objects and conveying their similarities spatially [<sup>1</sup>](#fn1). <br>\n",
    "<br>\n",
    "Multidimensional scaling uses pairwise similarity measures (which can be similarity measures of any kind, even qualitative ratings of similarity) to construct a spatial representation that keeps similar objects close together and dissimilar objects further apart. In this way, the goal is to capture the structure of the higher dimensional data in a lower dimensional representation.  \n",
    "\n",
    "Here's a few examples from the social sciences:\n",
    "\n",
    "![title](https://user-images.githubusercontent.com/16658498/56078898-bbedda80-5db2-11e9-836f-10ee92766e51.gif)\n",
    "<font size =2.95>\n",
    "The figure shows an application of multidimensional scaling in clinical psychology - the spatial representation illustrates dimensions of repetitive thought. The horizontal axis 'Valence' reflects whether the content of thoughts is positive or negative. The vertical axis 'Purpose' reflects whether the tone of thoughts is searching, questioning, and/or uncertain (negative numerical values) or largely solving, planning, and/or certain (positive numerical values). Notice that similar types are close together (self-analysis, reflection) and dissimilar types are further apart (reminiscing, worry). Source: https://www.apa.org/science/about/psa/2011/03/repetitive-thought </font>\n",
    "\n",
    "![title](https://user-images.githubusercontent.com/16658498/56078899-c0b28e80-5db2-11e9-8f35-b680e7404af9.png)\n",
    "\n",
    "<font size =2.95> This figure shows Multidimensional scaling applied to voting patterns of Democrats (blue dots) and Republicans (red dots) in the US House of Representatives. Source: https://en.wikipedia.org/wiki/Multidimensional_scaling#Types <font>"
   ]
  },
  {
   "cell_type": "markdown",
   "metadata": {},
   "source": [
    "**Goal**: MDS differs from many other dimensionality reduction methods in that the input to MDS is only the dissimilarity matrix, instead of the actual position vectors of the data. Given a pairwise dissimilarity matrix $D$ with entries $d_{ij}$ for the distance/dissimilarity between observations $i$ and $j$, we find $x_1, ..., x_n \\in \\mathbb{R}^k$ such that: <br>\n",
    "<br>\n",
    "$$\\underbrace{d_{ij}^2}_{\\text{original distances}} \\approx \\underbrace{||x_{i} - x_{j}||^2}_{\\text{output configuration}}$$\n",
    "<br>\n",
    "We find a configuration (typically a lower dimensional configuration in $\\mathbb{R}^2$) that keeps the Euclidean distances in $\\mathbb{R}^k$ as close as possible to our original distances/similarities. <br>\n",
    "<br>\n",
    "**Note:** MDS considers global similarities by attempting to preserve all the pairwise distances (instead of preserving local neighborhood similarities like many other manifold learning algorithms), and this limits the ability of MDS to produce non-linear embeddings. <br>\n",
    "<br>\n",
    "**Note:** the original distances in $D$ do not have to be Euclidean distances. They can be pairwise dissimilarities, even for qualitative comparisons between any type of objects. The algorithm will be slightly modified when the original distances are Euclidean (classical MDS) vs. non-Euclidean or even direct qualitative similarities (general metric or non-metric MDS)."
   ]
  },
  {
   "cell_type": "markdown",
   "metadata": {},
   "source": [
    "### Algorithm Outline (Classical MDS): \n",
    "**Input:** Pairwise distances/dissimilarities for n objects given by matrix $D \\in \\mathbb{R}^{n \\times n}$ with entries $d_{ij}$, with one parameter k (specified output dimension)<br>\n",
    "**Output:** Configuration vectors $x_1, ..., x_n \\in \\mathbb{R}^k$\n",
    "<br>\n",
    "**Steps**: <br>\n",
    "1. Compute Gram matrix & double centering: from the pairwise dissimilarity matrix find Gram matrix $B \\in \\mathbb{R}^{n \\times n}$ where we double center with $B = \\frac{-1}{2} C_n D^{2} C_{n}$<br>\n",
    "2. Find eigenvalues and eigenvectors: Find eigenvalues $\\lambda$ and eigenvectors $\\mathbf{v}$ of Gram matrix and form matrices $\\mathbf{\\Lambda}_{n}=\\operatorname{diag}\\left(\\lambda_{1}, \\ldots, \\lambda_{n}\\right)$ and $\\boldsymbol{V}_{n}=\\left(\\boldsymbol{v}_{1}, \\ldots, \\boldsymbol{v}_{n}\\right)$\n",
    "3. Lower dimensional embedding:  use the top k eigenvectors $v_1, ..., v_k$ (with the largest eigenvalues) and decomposition $X = V_{k} \\sqrt{\\Lambda}_{k} $ to form matrix $X = (x_1, \\ldots, x_n)^{T}$ with lower dimensional output vectors $x_i \\in \\mathbb{R}^k$"
   ]
  },
  {
   "cell_type": "markdown",
   "metadata": {},
   "source": [
    "**Classical MDS:** When the original distances are Euclidean, we use classical multidimensional scaling and we try to find a configuration so that the configured distances are approximately equal to the original Euclidean distances."
   ]
  },
  {
   "cell_type": "markdown",
   "metadata": {},
   "source": [
    "## Step 1: Double Centering and the Gram Matrix"
   ]
  },
  {
   "cell_type": "markdown",
   "metadata": {},
   "source": [
    "To find the matrix $X$ with the output coordinates, we use the fact that the $n\\times n$ Gram matrix $B$ will be defined by the inner products of $X$.   \n",
    "<br>\n",
    "$$\\underbrace{\\mathbf{B}}_{n\\times n} = \\underbrace{\\mathbf{X}}_{n\\times k} \\cdot \\underbrace{\\mathbf{X}^T}_{k\\times n}$$   \n",
    "\n",
    "Which we write out explicitly as <br>\n",
    "\n",
    "\n",
    "$$\\mathbf{B} = \\mathbf{X X^T} = \\begin{bmatrix}\n",
    "x_{1,1} & x_{1,2} & \\cdots & x_{1,k} \\\\\n",
    "x_{2,1} & x_{2,2} & \\cdots & x_{2,k} \\\\\n",
    "\\vdots & \\vdots & \\vdots & \\vdots \\\\\n",
    "x_{n,1} & x_{n,2} & \\cdots & x_{n,k}\n",
    "\\end{bmatrix} \n",
    "\\begin{bmatrix}\n",
    "x_{1,1} & x_{2,1} & \\cdots & x_{n,1} \\\\\n",
    "x_{1,2} & x_{2,2} & \\cdots & x_{n,2} \\\\\n",
    "\\vdots & \\vdots & \\vdots & \\vdots \\\\\n",
    "x_{1,k} & x_{2,k} & \\cdots & x_{n,k}\n",
    "\\end{bmatrix}$$   \n",
    "\n",
    "\n",
    "The entries of $B$ are given by $b_{ij} = \\langle x_i , x_j \\rangle = \\sum_{k} x_{ik} x_{jk}$. The expression of the gram matrix involving output configuration $X$ is only shown here to illustrate that once we compute the gram matrix, we can then derive the output vectors. However, we will obviously have to use our only input, the dissimilarity matrix, in order to find the gram matrix $B$. "
   ]
  },
  {
   "cell_type": "markdown",
   "metadata": {},
   "source": [
    "**Important detail/constraint**: The configuration of our solution will not be unique, as arbitrary translations, rotations, and reflections will not affect the pairwise distances. For example, if we have the solution as matrix $X = [x_1, \\ldots, x_n]^{T}$, then we also have the solution $X^* = [x_1 + c, \\ldots, x_n + c]^{T}$, translated by some vector $c \\in \\mathbb{R}^k$: <br>\n",
    "<br>\n",
    "$$\n",
    "\\begin{equation}\n",
    "\\begin{aligned}\n",
    "d_{ij}^2 & \\approx ||x_{i} - x_{j}||^2 & \\text{since X is a solution}\\\\\n",
    "\\\\\n",
    "            & = ||(x_{i} + c) - (x_{j} + c)||^2\\\\\n",
    "\\\\\n",
    "            & = ||x^*_{i} - x^*_{j}||^2\\\\\n",
    "\\end{aligned}\n",
    "\\end{equation}\n",
    "$$\n",
    "\n",
    "Therefore, we must also have $d_{ij}^2 \\approx ||x^*_{i} - x^*_{j}||^2$. <br>\n",
    "<br>\n",
    "The configurations that result from an arbitrary translation will all be solutions, and similar arguments can show that the pairwise distances will also be unaffected by rotations and reflections. Intuitively, the reasoning is that the distances are only defined pairwise, and not in terms of a global coordinate system."
   ]
  },
  {
   "cell_type": "markdown",
   "metadata": {},
   "source": [
    "### Double Centering\n",
    "\n",
    "To incorporate the translational invariance, we need to center the gram matrix around 0 by subtracting the column and row means from every entry. Double centering is a technique that uses the centering matrix $C_n$: <br>\n",
    "<br>\n",
    "$$C_{n} = I_{n} - \\frac{1}{n} \\mathbf{1}\\mathbf{1^T}$$   \n",
    "\n",
    "where $I_{n}$ is the Identity matrix for dimension $n$, $\\mathbf{1}$ is a column vector of n ones, and $\\mathbf{1}\\mathbf{1^T}$ gives the $n\\times n$ matrix of all ones."
   ]
  },
  {
   "cell_type": "markdown",
   "metadata": {},
   "source": [
    "For example, $$C_{2} = \\begin{bmatrix}\n",
    "1 & 0 \\\\\n",
    "0 & 1\n",
    "\\end{bmatrix} - \\frac{1}{2} \\begin{bmatrix}\n",
    "1 & 1 \\\\\n",
    "1 & 1\n",
    "\\end{bmatrix} = \\begin{bmatrix}\n",
    "1/2 & -1/2 \\\\\n",
    "-1/2 & 1/2\n",
    "\\end{bmatrix} $$"
   ]
  },
  {
   "cell_type": "markdown",
   "metadata": {},
   "source": [
    "For some matrix $X \\in \\mathbb{R}^{n \\times n}$: $C_{n} X$ subtracts the column means from the entries of $X$, and $X C_{n}$ subtracts the row means from every entry of $X$. Hence, the operation $C_{n}X C_{n}$ removes both row and column means and is referred to as double centering."
   ]
  },
  {
   "cell_type": "markdown",
   "metadata": {},
   "source": [
    "We now generate some data and demonstrate the use of the centering matrix in python:"
   ]
  },
  {
   "cell_type": "code",
   "execution_count": 19,
   "metadata": {
    "ExecuteTime": {
     "end_time": "2019-07-19T05:44:39.197082Z",
     "start_time": "2019-07-19T05:44:39.176137Z"
    }
   },
   "outputs": [
    {
     "data": {
      "text/plain": [
       "array([[2.20786464, 4.9504056 ],\n",
       "       [2.35471277, 8.53199309],\n",
       "       [5.16388901, 6.30404404],\n",
       "       [1.47123617, 5.76109973],\n",
       "       [2.96777901, 6.45938909]])"
      ]
     },
     "execution_count": 19,
     "metadata": {},
     "output_type": "execute_result"
    },
    {
     "name": "stdout",
     "output_type": "stream",
     "text": [
      "Column 1 mean:  2.98515589227498\n",
      "Column 2 mean:  6.797238345804335\n"
     ]
    }
   ],
   "source": [
    "# import libraries\n",
    "import numpy as np\n",
    "import matplotlib.pyplot as plt\n",
    "import seaborn as sns\n",
    "\n",
    "# plotting style\n",
    "%matplotlib inline\n",
    "# display multiple outputs within a cell\n",
    "from IPython.core.interactiveshell import InteractiveShell\n",
    "InteractiveShell.ast_node_interactivity = \"all\";\n",
    "# ignore warnings\n",
    "import warnings\n",
    "warnings.filterwarnings('ignore');\n",
    "\n",
    "N = 100 # number of data points\n",
    "u = 3 + np.random.randn(N) # first feature dimension with mean = 3\n",
    "v = 7 + np.random.randn(N) # second feature dimensions with mean = 7\n",
    "X = np.hstack((u.reshape(-1,1),v.reshape(-1,1))) # 100 x 2 data matrix\n",
    "# view first 5 rows and the column means\n",
    "X[:5,:]\n",
    "print('Column 1 mean: ', np.mean(X[:, 0]))\n",
    "print('Column 2 mean: ', np.mean(X[:, 1]))"
   ]
  },
  {
   "cell_type": "code",
   "execution_count": 20,
   "metadata": {
    "ExecuteTime": {
     "end_time": "2019-07-19T05:44:42.431740Z",
     "start_time": "2019-07-19T05:44:42.297102Z"
    }
   },
   "outputs": [
    {
     "data": {
      "image/png": "[encoded data removed]",
      "text/plain": [
       "<Figure size 640x480 with 1 Axes>"
      ]
     },
     "metadata": {},
     "output_type": "display_data"
    }
   ],
   "source": [
    "# lets visualize the data:\n",
    "plt.scatter(X[:, 0], X[:, 1], cmap=plt.cm.jet)\n",
    "plt.show();"
   ]
  },
  {
   "cell_type": "markdown",
   "metadata": {},
   "source": [
    "The data is centered around (3, 7), and we can find the pairwise distances with the scikit-learn library, and plot a heatmap to visualize a corner of the 100x100 distance matrix."
   ]
  },
  {
   "cell_type": "code",
   "execution_count": 21,
   "metadata": {
    "ExecuteTime": {
     "end_time": "2019-07-19T05:45:55.192927Z",
     "start_time": "2019-07-19T05:45:44.674413Z"
    }
   },
   "outputs": [
    {
     "data": {
      "image/png": "[encoded data removed]",
      "text/plain": [
       "<Figure size 1000x600 with 2 Axes>"
      ]
     },
     "metadata": {},
     "output_type": "display_data"
    }
   ],
   "source": [
    "from sklearn.metrics import pairwise_distances\n",
    "D = pairwise_distances(X)\n",
    "plt.figure(figsize=(10,6))\n",
    "sns.heatmap(D[:10, :10], cmap=\"coolwarm\", annot=True);"
   ]
  },
  {
   "cell_type": "markdown",
   "metadata": {},
   "source": [
    "Notice that the distance matrix is symmetric and non-negative with zeros on the diagonal since the distance from every point to itself is zero. Now we define the centering matrix and multiply with our data matrix X to remove the column means, resulting in data centered around (0, 0)."
   ]
  },
  {
   "cell_type": "code",
   "execution_count": 22,
   "metadata": {
    "ExecuteTime": {
     "end_time": "2019-07-19T05:46:32.925233Z",
     "start_time": "2019-07-19T05:46:32.722470Z"
    }
   },
   "outputs": [
    {
     "data": {
      "image/png": "[encoded data removed]",
      "text/plain": [
       "<Figure size 640x480 with 1 Axes>"
      ]
     },
     "metadata": {},
     "output_type": "display_data"
    }
   ],
   "source": [
    "# function to form centering matrix\n",
    "centering_matrix = lambda n: np.identity(n) -(1/n)*np.ones((n,n))\n",
    "# multiply by data matrix X\n",
    "X_centered = np.dot(centering_matrix(100), X)\n",
    "# plot the centered data:\n",
    "plt.scatter(X_centered[:, 0], X_centered[:, 1], cmap=plt.cm.jet)\n",
    "plt.show();"
   ]
  },
  {
   "cell_type": "code",
   "execution_count": 23,
   "metadata": {
    "ExecuteTime": {
     "end_time": "2019-07-19T05:47:31.384497Z",
     "start_time": "2019-07-19T05:47:31.253845Z"
    }
   },
   "outputs": [
    {
     "data": {
      "text/plain": [
       "True"
      ]
     },
     "execution_count": 23,
     "metadata": {},
     "output_type": "execute_result"
    }
   ],
   "source": [
    "# verify that the pairwise distances are unchanged\n",
    "D_centered = pairwise_distances(X_centered)\n",
    "np.allclose(D, D_centered)"
   ]
  },
  {
   "cell_type": "code",
   "execution_count": 24,
   "metadata": {},
   "outputs": [
    {
     "data": {
      "text/plain": [
       "EigResult(eigenvalues=array([ 1.84920589e+02, -5.02158548e+01, -4.24168171e+01, -2.29343131e+01,\n",
       "       -8.03607529e+00, -7.66953035e+00, -5.22264270e+00, -4.88801846e+00,\n",
       "       -3.75384664e+00, -3.15213309e+00, -2.84909175e+00, -2.37476978e+00,\n",
       "       -2.12200212e+00, -1.66272999e+00, -1.62779113e+00, -1.35500818e+00,\n",
       "       -1.19606283e+00, -1.12365623e+00, -1.00655745e+00, -9.71846994e-01,\n",
       "       -9.64778066e-01, -8.75233601e-01, -7.84615013e-01, -7.65434866e-01,\n",
       "       -7.23450664e-01, -7.04127164e-01, -6.47030770e-01, -6.14752015e-01,\n",
       "       -5.65600258e-01, -5.52466334e-01, -5.31418413e-01, -5.14960287e-01,\n",
       "       -4.91095972e-01, -4.78140173e-01, -4.48643447e-01, -4.25121916e-01,\n",
       "       -4.17742067e-01, -3.98926045e-01, -3.71161811e-01, -3.59475834e-01,\n",
       "       -3.43184238e-01, -3.25217430e-01, -3.11826418e-01, -3.09759088e-01,\n",
       "       -3.01840518e-01, -2.99387510e-01, -2.75401176e-01, -2.62655717e-01,\n",
       "       -2.44584275e-01, -2.34735993e-01, -2.30839869e-01, -2.23120714e-01,\n",
       "       -2.34205323e-02, -2.05106121e-01, -2.03703408e-01, -2.00312296e-01,\n",
       "       -2.78486541e-02, -1.93278610e-01, -3.97647525e-02, -3.41682553e-02,\n",
       "       -4.10689893e-02, -1.87028830e-01, -1.85507422e-01, -1.83310732e-01,\n",
       "       -1.80229199e-01, -4.54729484e-02, -1.70904074e-01, -5.02611133e-02,\n",
       "       -1.58381326e-01, -1.56382373e-01, -5.35935986e-02, -1.52014478e-01,\n",
       "       -1.50494387e-01, -1.43032703e-01, -1.37483270e-01, -7.02242362e-02,\n",
       "       -6.11129335e-02, -6.16708248e-02, -6.20398217e-02, -1.32188722e-01,\n",
       "       -1.31037720e-01, -6.92398132e-02, -1.25923647e-01, -7.79796178e-02,\n",
       "       -8.80525851e-02, -1.21998490e-01, -1.19003744e-01, -1.12651339e-01,\n",
       "       -1.17007438e-01, -1.00317829e-01, -9.03069226e-02, -9.29424285e-02,\n",
       "       -8.98488451e-02, -9.30349265e-02, -1.06611604e-01, -1.05546291e-01,\n",
       "       -1.05643004e-01, -9.71284980e-02, -9.54255680e-02, -9.54082446e-02]), eigenvectors=array([[ 1.22464336e-01,  1.73909576e-01,  1.85617263e-02, ...,\n",
       "        -1.02831836e-04, -7.43117588e-03, -5.28226036e-04],\n",
       "       [ 1.16240564e-01, -1.08733481e-01, -1.49798633e-01, ...,\n",
       "        -7.87483405e-04, -2.32235386e-05, -1.86861878e-03],\n",
       "       [ 1.33687735e-01, -5.75399897e-02,  1.79647305e-01, ...,\n",
       "        -2.28121594e-04,  7.05576494e-03,  4.91932491e-04],\n",
       "       ...,\n",
       "       [ 9.34664608e-02, -1.42635047e-01,  1.44124402e-02, ...,\n",
       "        -5.55922835e-01,  7.41300898e-04, -3.13043806e-02],\n",
       "       [ 1.06471283e-01, -1.58009529e-01, -4.53103420e-02, ...,\n",
       "        -1.45938107e-01,  3.39014698e-03, -1.42608977e-02],\n",
       "       [ 7.30072305e-02,  2.04421538e-02,  1.32670952e-02, ...,\n",
       "        -3.62004608e-05, -6.30275628e-05,  2.97674701e-03]],\n",
       "      shape=(100, 100)))"
      ]
     },
     "execution_count": 24,
     "metadata": {},
     "output_type": "execute_result"
    }
   ],
   "source": [
    "np.linalg.eig(D_centered)"
   ]
  },
  {
   "cell_type": "markdown",
   "metadata": {},
   "source": [
    "**Closed Form of the Gram Matrix with Centering:** <br>\n",
    "<br>\n",
    "We can now succinctly state the closed matrix form of $B$ by making use of the centering matrix:\n",
    "<br>\n",
    "<br>\n",
    "$$\\boxed {B = \\frac{-1}{2} C_n D^{2} C_{n}}$$\n",
    "\n",
    "**Note:** $C_n$ is the centering matrix with $C_{n} = I_{n} - \\frac{1}{n} \\mathbf{1}\\mathbf{1^T}$ and from the original distance matrix we have $D^{2}$ = matrix with entries ${d_{ij}^2}$"
   ]
  },
  {
   "cell_type": "markdown",
   "metadata": {},
   "source": [
    "## Step 2: Find eigenvalues and eigenvectors of matrix B"
   ]
  },
  {
   "cell_type": "markdown",
   "metadata": {},
   "source": [
    "Since the gram matrix $B$ is a real symmetric, positive definite matrix, we know that it will have real eigenvalues and we can use the following eigendecomposition of B in order to find an expression for our output configuration: <br>\n",
    "<br>\n",
    "$$\n",
    "\\begin{aligned}\n",
    "B & = V \\Lambda V^T\\\\\n",
    "            & = {(\\Lambda^\\frac{1}{2} V^{T})}^T (\\Lambda^\\frac{1}{2} V^{T})\\\\\n",
    "            & = X X^T & \\text{(from original def. of B)}\\\\\n",
    "\\end{aligned}\n",
    "$$\n",
    "\n",
    "and therefore we have\n",
    "\n",
    "\n",
    "$$X = V \\sqrt{\\Lambda}$$\n",
    "\n",
    "where the eigenvalues are given by diagonal matrix $\\mathbf{\\Lambda}=\\operatorname{diag}\\left(\\lambda_{1}, \\ldots, \\lambda_{n}\\right)$ and the eigenvectors are given by the following matrix with the columns set as the eigenvectors $V=\\left(v_{1}, \\ldots, v_{n}\\right)^{T}$"
   ]
  },
  {
   "cell_type": "markdown",
   "metadata": {},
   "source": [
    "## Step 3: Find coordinates of output configuration"
   ]
  },
  {
   "cell_type": "markdown",
   "metadata": {},
   "source": [
    "We can now define a k-dimensional configuration by choosing the largest k eigenvalues and the corresponding eigenvectors from k columns of V: <br>\n",
    "<br>\n",
    "$$ \\boxed{X_{k} = V_{k} \\sqrt{\\Lambda_{k}}}$$"
   ]
  },
  {
   "cell_type": "markdown",
   "metadata": {},
   "source": [
    "where $\\Lambda_{k}$ is the k x k diagonal submatrix of $\\Lambda$ and $V_{k}$ is the n x k submatrix of $V$."
   ]
  },
  {
   "cell_type": "markdown",
   "metadata": {},
   "source": [
    "## Classical MDS and equivalence to PCA"
   ]
  },
  {
   "cell_type": "markdown",
   "metadata": {},
   "source": [
    "Without going into the full details of Principal Component Analysis, I'll attempt to show that Classical MDS with Euclidean distances produces the same results as PCA. "
   ]
  },
  {
   "cell_type": "markdown",
   "metadata": {},
   "source": [
    "In the standard PCA approach, we have an input data matrix $X$ and (after centering the data) we find the singular value decomposition of $X$: <br>\n",
    "<br>\n",
    "$$\n",
    "\\mathbf{X}=\\mathbf{U \\Sigma W}^{T}\n",
    "$$ <br>\n",
    "where $\\Sigma$ is a diagonal matrix with singular values $\\sigma_{(k)}$, and matrices $U, W$ are orthogonal matrices s.t $\\mathbf{W}^{T} \\mathbf{W}=\\mathbf{I} = \\mathbf{U}^{T} \\mathbf{U}$ <br>\n",
    "\n",
    "The output $Y_k$ is produced by projecting the data onto the first $k$ principal components by multiplying $X$ and the first $k$ columns of $W$: <br>\n",
    "<br>\n",
    "$$\\begin{aligned} \\mathbf{Y_k} &= \\mathbf{X} \\mathbf{W_k} \\\\\n",
    "&= \\mathbf{U_k \\Sigma_k W_k^{T} W_k} \\\\\n",
    "&= \\mathbf{U_k} \\Sigma_k & (\\text{since we have  } \\mathbf{W}^{T} \\mathbf{W}=\\mathbf{I})\\\\\n",
    "\\end{aligned}\n",
    "$$\n",
    "<br>\n",
    "To see the equivalence between PCA and classical MDS, consider our previous eigenvector decomposition of $X X^T$ from classical MDS. We now show that these left singular values $U_k$ are equivalent to the eigenvectors of $X X^T$, and that the singular values $\\sigma_{(k)}$ of $\\mathbf{X}$ are equivalent to the square root of the eigenvalues of $X X^T$. We rewrite $X X^T$ using the SVD: <br>\n",
    "<br>"
   ]
  },
  {
   "cell_type": "markdown",
   "metadata": {},
   "source": [
    "$$\\begin{aligned} \\mathbf{X} \\mathbf{X}^{T} &=(\\mathbf{U} \\boldsymbol{\\Sigma} \\mathbf{W}^{T}) (\\mathbf{W} \\boldsymbol{\\Sigma}^{T} \\mathbf{U}^{T}) \\\\ \n",
    "&=\\mathbf{U} \\boldsymbol{\\Sigma} \\mathbf{\\Sigma}^{T} \\mathbf{U}^{T} & (\\text{since we have  } \\mathbf{W}^{T} \\mathbf{W}=\\mathbf{I}) \\\\\n",
    "&= (\\mathbf{U} \\mathbf{\\Sigma}) (\\mathbf{\\Sigma} \\mathbf{U}^{T}) \\\\ \n",
    "&= V \\Lambda V^T & \\text{(eigendecomposition above)} \\\\ \n",
    "&= (V_{k} \\sqrt{\\Lambda_{k}}) (\\sqrt{\\Lambda_{k}} V^{T})\\\\\n",
    "\\end{aligned}$$"
   ]
  },
  {
   "cell_type": "markdown",
   "metadata": {},
   "source": [
    "Therefore, we have: <br>\n",
    "$$ \\mathbf{U_k} \\Sigma_k = V_{k} \\sqrt{\\Lambda_{k}}$$   \n",
    "and so finding the eigenvalue decomposition of the Gram matrix above (classical MDS) produces the same results as using the singular value decomposition and projecting onto the principal components (PCA)."
   ]
  },
  {
   "cell_type": "markdown",
   "metadata": {},
   "source": [
    "## Metric vs. Non-metric MDS\n",
    "There are many different variants of MDS that can be applied in different situations, and so the broad categories are only briefly covered below."
   ]
  },
  {
   "cell_type": "markdown",
   "metadata": {},
   "source": [
    "**Metric MDS** - dissimilarities are quantitative but not necessarily Euclidean (classical MDS is a special case)\n",
    "\n",
    "For metric MDS, we have loss function defined as: <br>\n",
    "<br>\n",
    "$$Stress_{D}\\left(x_{1}, x_{2}, \\ldots, x_{N}\\right)=\\left(\\sum_{i \\neq j=1, \\ldots, N}\\left(d_{i j}-\\left\\|x_{i}-x_{j}\\right\\|\\right)^{2}\\right)^{1 / 2}\n",
    "$$ <br>\n",
    "We attempt to find the configuration $x_1, ..., x_n$ to minimize this error given our input matrix $D$"
   ]
  },
  {
   "cell_type": "markdown",
   "metadata": {},
   "source": [
    "**Non-metric MDS** - dissimilarities are qualitative (similarity measures are interpreted more as rankings or ordinal classifications) <br>"
   ]
  },
  {
   "cell_type": "markdown",
   "metadata": {},
   "source": [
    "In the non-metric case, the dissimilarity matrix we are given is only important in its relative ranking of the observations, not the quantitative degree to which observations differ. For non-metric MDS, we have a monotonic function $f$ and we find a configuration that *only preserves relative ranking of the data*. <br>\n",
    "<br>\n",
    "If $d_{ij} < d_{ik}, \\Rightarrow f(d_{ij}) \\leq f(d_{ik})$"
   ]
  },
  {
   "cell_type": "markdown",
   "metadata": {},
   "source": [
    "Non-metric MDS can also be stated as the problem of finding the optimal configuration $x_1, ..., x_n \\in \\mathbb{R}^k$ that minimizes the following loss function: <br>\n",
    "<br>\n",
    "$$\n",
    "Stress_{D}\\left(x_{1}, x_{2}, \\ldots, x_{N}\\right)=\\sqrt{\\frac{\\sum(f(x)-d)^{2}}{\\sum d^{2}}}\n",
    "$$"
   ]
  },
  {
   "cell_type": "markdown",
   "metadata": {},
   "source": [
    "### <font color='blue'> Example - MDS and Non-linear Embeddings </font>"
   ]
  },
  {
   "cell_type": "markdown",
   "metadata": {},
   "source": [
    "We use `sklearn.datasets` to generate a non-linear dataset that is often used to test manifold learning algorithms, and we use `sklearn.manifold` to apply MDS and visualize the resulting embedding."
   ]
  },
  {
   "cell_type": "code",
   "execution_count": 25,
   "metadata": {
    "ExecuteTime": {
     "end_time": "2019-07-19T07:59:21.620815Z",
     "start_time": "2019-07-19T07:59:20.974155Z"
    }
   },
   "outputs": [
    {
     "ename": "ModuleNotFoundError",
     "evalue": "No module named 'sklearn.datasets.samples_generator'",
     "output_type": "error",
     "traceback": [
      "\u001b[31m---------------------------------------------------------------------------\u001b[39m",
      "\u001b[31mModuleNotFoundError\u001b[39m                       Traceback (most recent call last)",
      "\u001b[36mCell\u001b[39m\u001b[36m \u001b[39m\u001b[32mIn[25]\u001b[39m\u001b[32m, line 1\u001b[39m\n\u001b[32m----> \u001b[39m\u001b[32m1\u001b[39m \u001b[38;5;28;01mfrom\u001b[39;00m\u001b[38;5;250m \u001b[39m\u001b[34;01msklearn\u001b[39;00m\u001b[34;01m.\u001b[39;00m\u001b[34;01mdatasets\u001b[39;00m\u001b[34;01m.\u001b[39;00m\u001b[34;01msamples_generator\u001b[39;00m\u001b[38;5;250m \u001b[39m\u001b[38;5;28;01mimport\u001b[39;00m make_s_curve\n\u001b[32m      2\u001b[39m \u001b[38;5;28;01mfrom\u001b[39;00m\u001b[38;5;250m \u001b[39m\u001b[34;01mmpl_toolkits\u001b[39;00m\u001b[38;5;250m \u001b[39m\u001b[38;5;28;01mimport\u001b[39;00m mplot3d\n\u001b[32m      3\u001b[39m X, color = make_s_curve(\u001b[32m1000\u001b[39m, random_state=\u001b[32m0\u001b[39m)\n",
      "\u001b[31mModuleNotFoundError\u001b[39m: No module named 'sklearn.datasets.samples_generator'"
     ]
    }
   ],
   "source": [
    "from sklearn.datasets.samples_generator import make_s_curve\n",
    "from mpl_toolkits import mplot3d\n",
    "X, color = make_s_curve(1000, random_state=0)\n",
    "plt.style.use('default')\n",
    "#plt.rcParams['figure.facecolor'] = 'white'\n",
    "\n",
    "# set up a figure twice as wide as it is tall\n",
    "fig = plt.figure(figsize=plt.figaspect(0.5))\n",
    "\n",
    "# set up the axes for the first plot\n",
    "ax = fig.add_subplot(1, 2, 1, projection='3d')\n",
    "ax.scatter3D(X[:, 0], X[:, 1], X[:, 2], c=color, cmap=plt.cm.jet);\n",
    "plt.title('S-curve in $\\mathbb{R}^3$')\n",
    "\n",
    "# set up the axes for the second plot\n",
    "ax = fig.add_subplot(1, 2, 2, projection='3d')\n",
    "plt.title('Alternate view')\n",
    "ax.scatter3D(X[:, 0], X[:, 1], X[:, 2], c=color, cmap=plt.cm.jet)\n",
    "ax.view_init(4,90);"
   ]
  },
  {
   "cell_type": "code",
   "execution_count": null,
   "metadata": {
    "ExecuteTime": {
     "end_time": "2019-07-19T08:03:56.645552Z",
     "start_time": "2019-07-19T08:03:35.826244Z"
    }
   },
   "outputs": [],
   "source": [
    "from sklearn.manifold import MDS\n",
    "model = MDS(n_components=2, random_state=2)\n",
    "out = model.fit_transform(X)\n",
    "fig = plt.figure(figsize=(4,4))\n",
    "plt.scatter(out[:, 0], out[:, 1], c=color, cmap=plt.cm.jet)\n",
    "plt.title('2D MDS Projection')\n",
    "plt.show();"
   ]
  },
  {
   "cell_type": "markdown",
   "metadata": {},
   "source": [
    "Multidimensional scaling is unable to accurately reproduce the non-linear, manifold structure of the S-curve and instead seemingly just produces a linear projection onto a plane. The reason MDS is generally unable to learn non-linear embeddings is that MDS attempts to preserve global distances based on an ambient or extrinsic coordinate system instead of learning the intrinsic structure by only considering local neighborhoods. <br>\n",
    "<br>\n",
    "The local neighborhood approach is used by the Isomap, Locally Linear Embedding, and Spectral Embedding algorithms that I cover in the subsequent sections, and fitting locally instead of globally produces much better non-linear embeddings."
   ]
  },
  {
   "cell_type": "markdown",
   "metadata": {},
   "source": [
    "### <font color='blue'> Example - MDS with Handwritten Digits </font>"
   ]
  },
  {
   "cell_type": "markdown",
   "metadata": {},
   "source": [
    "To get a sense of how MDS works on datasets, the MDS algorithm is implemented below and compared with the `sklearn.manifold` package on the MNIST handwritten digits dataset"
   ]
  },
  {
   "cell_type": "code",
   "execution_count": null,
   "metadata": {
    "ExecuteTime": {
     "end_time": "2019-07-19T07:58:54.980365Z",
     "start_time": "2019-07-19T07:58:53.469823Z"
    }
   },
   "outputs": [],
   "source": [
    "# import digits data\n",
    "from sklearn.datasets import fetch_mldata\n",
    "mnist = fetch_mldata('MNIST original')\n",
    "\n",
    "X = mnist['data']\n",
    "y = mnist['target']\n",
    "mnist.data.shape\n",
    "\n",
    "fig, ax = plt.subplots(6, 8, subplot_kw=dict(xticks=[], yticks=[]))\n",
    "for i, axi in enumerate(ax.flat):\n",
    "    _ = axi.imshow(mnist.data[1250 * i].reshape(28, 28), cmap='gray_r');"
   ]
  },
  {
   "cell_type": "markdown",
   "metadata": {},
   "source": [
    "Each of the 70,000 data points is a 784 dimensional vector, where each feature-dimension is a number from 0 to 255 representing pixel intensity. We will attempt to find a 2-dimensional spatial representation that conveys the similarities among the data points and keeps data in the same classes close together. <br>\n",
    "<br>\n",
    "Next I define a function to perform Classical MDS and to demonstrate its equivalence to PCA I plot their results on the digits dataset side by side."
   ]
  },
  {
   "cell_type": "code",
   "execution_count": null,
   "metadata": {
    "ExecuteTime": {
     "end_time": "2019-07-19T08:16:53.640561Z",
     "start_time": "2019-07-19T08:16:53.627596Z"
    }
   },
   "outputs": [],
   "source": [
    "def ClassicalMDS(dist_matrix, k):\n",
    "    \"\"\"Performs Classical Multidimensional Scaling\n",
    "    Parameters\n",
    "    ----------\n",
    "    dist_matrix : Pairwise dissimilarity/distance matrix (n x n)\n",
    "    k: Dimension of the output configuration\n",
    "    \n",
    "    Returns\n",
    "    -------\n",
    "    X : Matrix with columns as the output configuration vectors (k x n)\n",
    "    \"\"\"\n",
    "    # get shape of distance matrix                                                                         \n",
    "    n = dist_matrix.shape[0]\n",
    "    \n",
    "    # check distance matrix is symmetric\n",
    "    if not np.allclose(np.transpose(dist_matrix),dist_matrix):\n",
    "        print('Distance matrix must be symmetric')\n",
    "        return\n",
    " \n",
    "    # centering matrix\n",
    "    C = np.identity(n) -(1/n)*np.ones((n,n))\n",
    " \n",
    "    # compute gram matrix                                                                                    \n",
    "    B = -(1/2)*C.dot(dist_matrix**2).dot(C)\n",
    " \n",
    "    # solve for eigenvectors and eigenvalues and sort descending                                                   \n",
    "    w, v = np.linalg.eigh(B)                                                  \n",
    "    idx   = np.argsort(w)[::-1]\n",
    "    eigvals = w[idx]\n",
    "    eigvecs = v[:,idx]\n",
    "     \n",
    "    # select k largest eigenvalues and eigenvectors                      \n",
    "    Lambda  = np.diag(np.sqrt(eigvals[:k]))\n",
    "    V  = eigvecs[:,:k]\n",
    "    X  = np.dot(Lambda, np.transpose(V))\n",
    "    X = np.transpose(X)\n",
    "\n",
    "    return X"
   ]
  },
  {
   "cell_type": "code",
   "execution_count": null,
   "metadata": {
    "ExecuteTime": {
     "end_time": "2019-07-19T08:31:49.394346Z",
     "start_time": "2019-07-19T08:31:49.385368Z"
    }
   },
   "outputs": [],
   "source": [
    "# get random subset of digits data\n",
    "sample = np.random.permutation(mnist.data.shape[0])[:1000]\n",
    "data = mnist.data[sample]\n",
    "labels = mnist.target[sample]"
   ]
  },
  {
   "cell_type": "code",
   "execution_count": null,
   "metadata": {
    "ExecuteTime": {
     "end_time": "2019-07-19T08:32:04.526413Z",
     "start_time": "2019-07-19T08:32:03.565949Z"
    }
   },
   "outputs": [],
   "source": [
    "# get a subset of the mnist dataset\n",
    "np.random.seed(0)\n",
    "# set up a figure twice as wide as it is tall\n",
    "fig = plt.figure(figsize=plt.figaspect(0.5))\n",
    "\n",
    "# compute pairwise distance matrix with sklearn\n",
    "D = pairwise_distances(data)\n",
    "\n",
    "# set up the axes for the first plot\n",
    "ax = fig.add_subplot(1, 2, 1)\n",
    "# plot results of MDS\n",
    "X = ClassicalMDS(pairwise_distances(data), 2)\n",
    "plt.scatter(X[:, 0], X[:, 1], c=labels, cmap=plt.cm.get_cmap('jet', 10))\n",
    "plt.colorbar(ticks=range(10))\n",
    "plt.clim(-0.5, 9.5);\n",
    "plt.title('Classical MDS')\n",
    "\n",
    "# set up the axes for the second plot\n",
    "ax = fig.add_subplot(1, 2, 2)\n",
    "clf = PCA(n_components=2)\n",
    "X_pca = clf.fit_transform(data)\n",
    "ax.scatter(X_pca[:, 0], X_pca[:, 1], c=labels, cmap=plt.cm.get_cmap('jet', 10))\n",
    "plt.colorbar(ticks=range(10))\n",
    "plt.clim(-0.5, 9.5)\n",
    "plt.title('PCA');"
   ]
  },
  {
   "cell_type": "markdown",
   "metadata": {},
   "source": [
    "The results are the same for PCA and Classical MDS, although they may be off by a rotational degree of freedom due to underlying randomness in the implementations. \n",
    "<br>\n",
    "Classical MDS does a decent job of keeping similar digits clustered together in the plane. It seems that the 0 and the 1 groups were respectively clustered the closest together. The 0's and 1's are also the furthest apart which makes sense considering they have quite different visual structures."
   ]
  },
  {
   "cell_type": "markdown",
   "metadata": {},
   "source": [
    "We now use MDS from the `sklearn.manifold` library"
   ]
  },
  {
   "cell_type": "code",
   "execution_count": null,
   "metadata": {
    "ExecuteTime": {
     "end_time": "2019-07-19T08:36:18.407281Z",
     "start_time": "2019-07-19T08:35:19.238555Z"
    }
   },
   "outputs": [],
   "source": [
    "from sklearn.manifold import MDS\n",
    "\n",
    "model = MDS(n_components=2)\n",
    "proj = model.fit_transform(data)\n",
    "plt.scatter(proj[:, 0], proj[:, 1], c=labels, cmap=plt.cm.get_cmap('jet', 10))\n",
    "plt.colorbar(ticks=range(10))\n",
    "plt.clim(-0.5, 9.5);"
   ]
  },
  {
   "cell_type": "markdown",
   "metadata": {},
   "source": [
    "The scikit-learn implementation uses a variation of the metric MDS algorithm called SMACOF that seems to perform better than the previous classical MDS implementation. There is more apparent segmentation of the digits into the various clusters."
   ]
  },
  {
   "cell_type": "markdown",
   "metadata": {},
   "source": [
    "Next, we apply MDS to some correlation data for various crimes in the United States (Borg & Groenen, 1997)."
   ]
  },
  {
   "cell_type": "code",
   "execution_count": null,
   "metadata": {
    "ExecuteTime": {
     "end_time": "2019-07-19T05:54:34.978574Z",
     "start_time": "2019-07-19T05:54:34.958624Z"
    }
   },
   "outputs": [],
   "source": [
    "murder = np.array([1.00, 0.52, 0.34, 0.81, 0.28, 0.06, 0.11])\n",
    "rape = np.array([0.52, 1.00, 0.55, 0.70, 0.68, 0.60, 0.44])\n",
    "robbery = np.array([0.34, 0.55, 1.00, 0.56, 0.62, 0.44, 0.62])\n",
    "assault = np.array([0.81, 0.70, 0.56, 1.00, 0.52, 0.32, 0.33])\n",
    "burglary = np.array([0.28, 0.68, 0.62, 0.52, 1.00, 0.80, 0.70])\n",
    "larceny = np.array([0.06, 0.60, 0.44, 0.32, 0.80, 1.00, 0.55])\n",
    "auto_theft = np.array([0.11, 0.44, 0.62, 0.33, 0.70, 0.55, 1.00])\n",
    "\n",
    "crime_matrix = np.array([murder, rape, robbery, assault, burglary, larceny, auto_theft])\n",
    "crime_matrix\n",
    "crime_matrix.shape"
   ]
  },
  {
   "cell_type": "markdown",
   "metadata": {},
   "source": [
    "We use this correlation matrix as the pairwise similarity matrix so we can simply input this correlation data into the MDS algorithm. A good spatial representation will keep data points with high correlations closer to each other."
   ]
  },
  {
   "cell_type": "code",
   "execution_count": null,
   "metadata": {
    "ExecuteTime": {
     "end_time": "2019-06-18T02:44:13.795808Z",
     "start_time": "2019-06-18T02:44:13.379923Z"
    }
   },
   "outputs": [],
   "source": [
    "# set random seed\n",
    "np.random.seed(0)\n",
    "plt.style.use('seaborn')\n",
    "# metric MDS\n",
    "model = MDS(n_components=2)\n",
    "X = model.fit_transform(crime_matrix)\n",
    "X\n",
    "labels = ['murder', 'rape', 'robbery', 'assault', 'burglary', 'larceny', 'auto_theft']\n",
    "# plot results\n",
    "_ = plt.figure(figsize=(16,7))\n",
    "_ = plt.subplot(1,2,1)\n",
    "_ = plt.scatter(X[:, 0], X[:, 1], c='black', s=30)\n",
    "_ = plt.title('Metric MDS', size=20)\n",
    "for i in range(len(labels)):\n",
    "    _ = plt.text(X[i][0]+0.02, X[i][1]+0.02, s=labels[i], size=18)\n",
    "\n",
    "# non-metric MDS\n",
    "_ = plt.subplot(1,2,2)\n",
    "model = MDS(n_components=2, metric=False)\n",
    "proj = model.fit_transform(crime_matrix)\n",
    "labels = ['murder', 'rape', 'robbery', 'assault', 'burglary', 'larceny', 'auto_theft']\n",
    "# plot results\n",
    "_ = plt.scatter(proj[:, 0], proj[:, 1], c='black', s=30)\n",
    "_ = plt.title('Non-metric MDS', size=20)\n",
    "for i in range(len(labels)):\n",
    "    _ = plt.text(proj[i][0]+0.02, proj[i][1]+0.02, s=labels[i], size=18)"
   ]
  },
  {
   "cell_type": "markdown",
   "metadata": {},
   "source": [
    "The 2-d representation does a pretty good job of spatially displaying the similarities between the different crimes. There's not a lot of noticeable difference for the metric vs. non-metric results. Looking at the metric MDS projection, the y-axis might represent the personal vs. impersonal nature of the crimes and the x-axis might represent the level of violence inherent in the crime. As the data goes from the top right to the bottom left, the crimes get more personal and violent. "
   ]
  },
  {
   "cell_type": "markdown",
   "metadata": {},
   "source": [
    "Using the pairwise distances between US cities, we can use MDS to try and recreate a two dimensional representation that accurately portrays the spatial relationships in the United States."
   ]
  },
  {
   "cell_type": "code",
   "execution_count": null,
   "metadata": {
    "ExecuteTime": {
     "end_time": "2019-07-19T05:55:12.515382Z",
     "start_time": "2019-07-19T05:55:12.273920Z"
    }
   },
   "outputs": [],
   "source": [
    "import pandas as pd\n",
    "cities = pd.read_csv('C:/Users/dreww/Desktop/manifolds/cities_df.csv')\n",
    "cities.head()\n",
    "labels = list(cities.columns[1:])\n",
    "cities = cities.iloc[:,1:]\n",
    "dist_cities = np.array(cities)"
   ]
  },
  {
   "cell_type": "code",
   "execution_count": null,
   "metadata": {
    "ExecuteTime": {
     "end_time": "2019-07-19T05:55:25.762223Z",
     "start_time": "2019-07-19T05:55:25.461032Z"
    }
   },
   "outputs": [],
   "source": [
    "# metric MDS\n",
    "np.random.seed(0)\n",
    "model = MDS(n_components=2)\n",
    "X = model.fit_transform(dist_cities)\n",
    "# plot results\n",
    "_ = plt.figure(figsize=(8,8))\n",
    "_ = plt.scatter(X[:, 0], X[:, 1], c='black')\n",
    "_ = plt.title('US Cities', size=20)\n",
    "for i in range(len(labels)):\n",
    "    _ = plt.text(X[i][0]+0.02, X[i][1]+0.02, s=labels[i], size=16)"
   ]
  },
  {
   "cell_type": "markdown",
   "metadata": {},
   "source": [
    "We can do the same for European cities"
   ]
  },
  {
   "cell_type": "code",
   "execution_count": null,
   "metadata": {
    "ExecuteTime": {
     "end_time": "2019-07-19T05:55:43.827427Z",
     "start_time": "2019-07-19T05:55:43.764767Z"
    }
   },
   "outputs": [],
   "source": [
    "eurodist = pd.read_csv('C:/Users/dreww/Desktop/manifolds/eurodist.csv')\n",
    "eurodist.head()\n",
    "labels = list(eurodist.columns)"
   ]
  },
  {
   "cell_type": "code",
   "execution_count": null,
   "metadata": {
    "ExecuteTime": {
     "end_time": "2019-07-19T05:55:57.477506Z",
     "start_time": "2019-07-19T05:55:57.169330Z"
    }
   },
   "outputs": [],
   "source": [
    "np.random.seed(0)\n",
    "euro_cities = np.array(eurodist)\n",
    "model = MDS(n_components=2)\n",
    "X = model.fit_transform(euro_cities)\n",
    "# plot results\n",
    "_ = plt.figure(figsize=(8,8))\n",
    "_ = plt.scatter(X[:, 0], X[:, 1], c='black')\n",
    "_ = plt.title('European Cities', size=20)\n",
    "for i in range(len(labels)):\n",
    "    _ = plt.text(X[i][0]+0.02, X[i][1]+0.02, s=labels[i], size=16)"
   ]
  },
  {
   "cell_type": "markdown",
   "metadata": {},
   "source": [
    "In practice, multidimensional scaling has a broad range of applications and it offers a significant capability to produce spatial representations, even for qualitative similarity comparisons when we only need to input a set of pairwise similarity comparisons. However, MDS is quite limited by the fact that it considers the entire global set of pairwise distances. This significantly limits the ability of MDS to learn non-linear manifold structures. As we will see with the next algorithms, methods based only on the local neighborhoods can more effectively learn the intrinsic structure of the data. <br>\n",
    "<br>\n",
    "**Note:** verifying the geographical accuracy of these last projections will, of course, be left as an exercise to the reader "
   ]
  },
  {
   "cell_type": "code",
   "execution_count": null,
   "metadata": {
    "ExecuteTime": {
     "end_time": "2019-07-19T05:28:40.907475Z",
     "start_time": "2019-07-19T05:28:40.810769Z"
    }
   },
   "outputs": [],
   "source": [
    "from IPython.core.display import HTML\n",
    "\n",
    "def css_styling():\n",
    "    styles = open(\"custom_style.css\", \"r\").read()\n",
    "    return HTML(styles)\n",
    "css_styling()"
   ]
  },
  {
   "cell_type": "markdown",
   "metadata": {},
   "source": [
    "___\n",
    "\n",
    "### References\n",
    "\n",
    "\n",
    "-  [1] https://en.wikipedia.org/wiki/Multidimensional_scaling\n",
    "-  [2] https://en.wikipedia.org/wiki/Centering_matrix\n",
    "-  [3] Wickelmaier, Florian. \"An introduction to MDS.\" Sound Quality Research Unit, Aalborg University, Denmark (2003)"
   ]
  },
  {
   "cell_type": "markdown",
   "metadata": {},
   "source": [
    "### Notes\n",
    "<span id=\"fn1\"> **1:**</span>\n",
    "Perhaps the most fascinating discussion of Multidimensional scaling comes from the cognitive scientist RN Shepard, who proposed a 'Universal law of generalization' to describe perception and mental representations in terms of an underlying mathematical structure, such that the universal laws governing the universe might be reflected in laws that govern conscious minds. He states \"Invariance of the laws is achieved by constructing the representational spaces from psychological rather than physical data (using multidimensional scaling) and from considerations of geometry, group theory, and symmetry\" (RN Shepard 2004). Shepard also says \"These empirical regularities are mathematically derivable from universal principles of natural kinds and probabilistic geometry that may, through evolutionary internalization, tend to govern the behaviors of all sentient organisms\" (RN Shepard 1987)"
   ]
  }
 ],
 "metadata": {
  "kernelspec": {
   "display_name": ".venv",
   "language": "python",
   "name": "python3"
  },
  "language_info": {
   "codemirror_mode": {
    "name": "ipython",
    "version": 3
   },
   "file_extension": ".py",
   "mimetype": "text/x-python",
   "name": "python",
   "nbconvert_exporter": "python",
   "pygments_lexer": "ipython3",
   "version": "3.12.10"
  },
  "nbTranslate": {
   "displayLangs": [
    "*"
   ],
   "hotkey": "alt-t",
   "langInMainMenu": true,
   "sourceLang": "en",
   "targetLang": "fr",
   "useGoogleTranslate": true
  },
  "toc": {
   "base_numbering": 1,
   "nav_menu": {},
   "number_sections": false,
   "sideBar": true,
   "skip_h1_title": false,
   "title_cell": "Table of Contents",
   "title_sidebar": "Contents",
   "toc_cell": false,
   "toc_position": {
    "height": "calc(100% - 180px)",
    "left": "10px",
    "top": "150px",
    "width": "210.526px"
   },
   "toc_section_display": true,
   "toc_window_display": false
  },
  "varInspector": {
   "cols": {
    "lenName": 16,
    "lenType": 16,
    "lenVar": 40
   },
   "kernels_config": {
    "python": {
     "delete_cmd_postfix": "",
     "delete_cmd_prefix": "del ",
     "library": "var_list.py",
     "varRefreshCmd": "print(var_dic_list())"
    },
    "r": {
     "delete_cmd_postfix": ") ",
     "delete_cmd_prefix": "rm(",
     "library": "var_list.r",
     "varRefreshCmd": "cat(var_dic_list()) "
    }
   },
   "types_to_exclude": [
    "module",
    "function",
    "builtin_function_or_method",
    "instance",
    "_Feature"
   ],
   "window_display": false
  }
 },
 "nbformat": 4,
 "nbformat_minor": 2
}
